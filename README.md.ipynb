{
  "cells": [
    {
      "attachments": {},
      "cell_type": "markdown",
      "metadata": {
        "id": "BOm530qm4JDP"
      },
      "source": [
        "# Amazon Sales Report\n",
        "\n",
        "`Raden Dissa Shafira`\n",
        "\n",
        "**External Link:** [Dataset](https://www.kaggle.com/datasets/thedevastator/unlock-profits-with-e-commerce-sales-data/code?select=May-2022.csv), [Dashboard](https://lookerstudio.google.com/s/m5TOO1x-Bos)"
      ]
    },
    {
      "attachments": {},
      "cell_type": "markdown",
      "metadata": {
        "id": "vyLOyJar4PiZ"
      },
      "source": [
        "## Introduction\n",
        "**Topic**: Amazon India, potential warehouse site, business-to-customer, business-to-business.\n",
        "\n",
        "Laporan ini merupakan laporan hasil analisis data mengenai aktivitas penjualan produk fashion di *platform* *e-commerce* Amazon yang berfokus pada pengiriman di Negara India. Laporan ini bertujuan untuk menganalisis penjualan Amazon di India serta mengidentifikasi potensi pembangunan *warehouse* Amazon baru di India guna meningkatkan *engagement* perusahaan. Data yang digunakan meliputi data penjualan dari bulan Maret hingga Juni 2022."
      ]
    },
    {
      "attachments": {},
      "cell_type": "markdown",
      "metadata": {
        "id": "FF65Vj3P3QFB"
      },
      "source": [
        "\n",
        "**Problem statement:**\n",
        "\n",
        "Dengan meningkatnya popularitas e-commerce Amazon India pada tahun 2022, diperlukan strategi bisnis untuk mempertahankan serta memperluas penyebaran bisnis dengan mempertimbangkan tren, lokasi, serta tendensi pelanggan.\n",
        "\n",
        "**Questions:**\n",
        "1. Berapa volume penjualan total Amazon India, terutama pada produk fashion, selama periode yang dianalisis? Apa yang menggambarkan kondisi Amazon India dari data tersebut?\n",
        "2. Apakah diperlukan pertimbangan untuk membangun *site warehouse* baru di India? Kota atau wilayah geografis mana di India yang paling cocok untuk dijadikan potensi lokasi *site warehouse* baru dengan mempertimbangkan jumlah pemasukan (dalam INR)?\n",
        "3. Sebagai penambahan argumen, kota atau wilayah mana yang dapat menjadi potensi lokasi *site warehouse* baru dengan mempertimbangkan frekuensi penjualan?\n",
        "4. Siapa saja dan berapa persentase tipe pelanggan yang berbelanja di Amazon India?\n",
        "5. Apa kategori barang yang paling diminati oleh masing-masing tipe pelanggan?\n",
        "6. Apakah ada hubungan korelasi dari kategori yang diminati oleh pelanggan bisnis dan pelanggan pribadi?\n",
        "7. Apakah ada perbedaan rata-rata pemasukan yang signifikan pada satu site terhadap site lainnya?\n",
        "7. Apakah ada korelasi dalam peningkatan atau penurunan pada penjualan di Amazon pada bulan tertentu?"
      ]
    }
  ],
  "metadata": {
    "colab": {
      "provenance": [],
      "toc_visible": true
    },
    "kernelspec": {
      "display_name": "Python 3",
      "name": "python3"
    },
    "language_info": {
      "name": "python"
    }
  },
  "nbformat": 4,
  "nbformat_minor": 0
}
